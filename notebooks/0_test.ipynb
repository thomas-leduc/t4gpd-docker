{
 "cells": [
  {
   "cell_type": "code",
   "execution_count": null,
   "id": "9267cf9d-dddf-45f2-8829-2c2d836b3f84",
   "metadata": {
    "tags": []
   },
   "outputs": [],
   "source": [
    "import geopandas as gpd, matplotlib.pyplot as plt, numpy as np, pandas as pd, t4gpd"
   ]
  },
  {
   "cell_type": "code",
   "execution_count": null,
   "id": "46d4b4c7-ecd4-47a0-b28d-00b0bb09adfa",
   "metadata": {},
   "outputs": [],
   "source": [
    "print(t4gpd.__version__)"
   ]
  },
  {
   "cell_type": "code",
   "execution_count": null,
   "id": "6c7ae0e5-729b-4d66-88ad-cb01959d3b24",
   "metadata": {
    "tags": []
   },
   "outputs": [],
   "source": [
    "from geopandas import GeoDataFrame\n",
    "from shapely.geometry import MultiPoint\n",
    "from shapely.ops import voronoi_diagram\n",
    "\n",
    "red = MultiPoint([(0, 0), (1, 1), (0, 2), (2, 2), (3, 1), (1, 0)])\n",
    "regions = voronoi_diagram(red)\n",
    "\n",
    "# FROM GEOMETRIES TO GeoDataFrame\n",
    "red = GeoDataFrame([{\"geometry\": red}])\n",
    "regions = GeoDataFrame([{\"gid\": i, \"geometry\": geom} for i, geom in enumerate(regions.geoms)])\n",
    "\n",
    "# MAPPING\n",
    "ax = red.plot(color=\"red\")\n",
    "regions.plot(ax=ax, column=\"gid\", alpha=0.5)\n",
    "plt.show()"
   ]
  },
  {
   "cell_type": "code",
   "execution_count": null,
   "id": "12d9a556-0fd2-4876-b388-d930419d300c",
   "metadata": {
    "tags": []
   },
   "outputs": [],
   "source": [
    "countries = gpd.read_file(gpd.datasets.get_path(\"naturalearth_lowres\"))"
   ]
  },
  {
   "cell_type": "code",
   "execution_count": null,
   "id": "49cc76f5-9ce1-477e-b82f-2978ec793a8f",
   "metadata": {
    "tags": []
   },
   "outputs": [],
   "source": [
    "countries = gpd.read_file(gpd.datasets.get_path(\"naturalearth_lowres\"))\n",
    "\n",
    "fig, ax = plt.subplots(figsize=(1*8.26, 0.4*8.26))\n",
    "countries.plot(ax=ax, column=\"pop_est\", legend=True)\n",
    "plt.show()\n",
    "plt.close(fig)"
   ]
  },
  {
   "cell_type": "code",
   "execution_count": null,
   "id": "34d87889-2403-43e5-8754-5bb1ae3c8f91",
   "metadata": {
    "tags": []
   },
   "outputs": [],
   "source": [
    "from t4gpd.demos.GeoDataFrameDemos import GeoDataFrameDemos\n",
    "\n",
    "buildings = GeoDataFrameDemos.districtRoyaleInNantesBuildings()\n",
    "roads = GeoDataFrameDemos.districtRoyaleInNantesRoads()\n",
    "\n",
    "ax = buildings.plot(color=\"grey\")\n",
    "roads.plot(ax=ax, color=\"black\")\n",
    "plt.show()\n",
    "\n",
    "print(f\"Building areas: {buildings.area.sum():.0f} m^2\")"
   ]
  },
  {
   "cell_type": "code",
   "execution_count": null,
   "id": "972c2673-f84e-46d4-ae29-c8f0676d2f8b",
   "metadata": {
    "tags": []
   },
   "outputs": [],
   "source": [
    "buildings.to_file(\"data/buildings.gpkg\", driver=\"GPKG\")"
   ]
  },
  {
   "cell_type": "code",
   "execution_count": null,
   "id": "b4421ab8-2421-484c-82e0-3f05d50c705a",
   "metadata": {
    "tags": []
   },
   "outputs": [],
   "source": [
    "from geopandas import read_file\n",
    "\n",
    "buildings = read_file(\"data/buildings.gpkg\", driver=\"GPKG\")\n",
    "assert 49419.7 == round(buildings.area.sum(), 1), \"Check building areas\""
   ]
  },
  {
   "cell_type": "code",
   "execution_count": null,
   "id": "7bb64b30-2a8d-43df-b40b-866db7273d35",
   "metadata": {},
   "outputs": [],
   "source": [
    "import pyvista\n",
    "from t4gpd.pyvista.GeodeCiel import GeodeCiel\n",
    "from t4gpd.pyvista.ToUnstructuredGrid import ToUnstructuredGrid\n",
    "\n",
    "pyvista.start_xvfb()\n",
    "\n",
    "geode = GeodeCiel(norecursions=3, radius=None).run()\n",
    "scene = ToUnstructuredGrid([geode]).run()\n",
    "scene.plot(show_edges=False)"
   ]
  }
 ],
 "metadata": {
  "kernelspec": {
   "display_name": "Python 3 (ipykernel)",
   "language": "python",
   "name": "python3"
  },
  "language_info": {
   "codemirror_mode": {
    "name": "ipython",
    "version": 3
   },
   "file_extension": ".py",
   "mimetype": "text/x-python",
   "name": "python",
   "nbconvert_exporter": "python",
   "pygments_lexer": "ipython3",
   "version": "3.10.0"
  }
 },
 "nbformat": 4,
 "nbformat_minor": 5
}

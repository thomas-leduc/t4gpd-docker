{
 "cells": [
  {
   "cell_type": "code",
   "execution_count": null,
   "id": "9267cf9d-dddf-45f2-8829-2c2d836b3f84",
   "metadata": {
    "tags": []
   },
   "outputs": [],
   "source": [
    "import t4gpd"
   ]
  },
  {
   "cell_type": "code",
   "execution_count": null,
   "id": "46d4b4c7-ecd4-47a0-b28d-00b0bb09adfa",
   "metadata": {},
   "outputs": [],
   "source": [
    "print(t4gpd.__version__)"
   ]
  },
  {
   "cell_type": "code",
   "execution_count": null,
   "id": "34d87889-2403-43e5-8754-5bb1ae3c8f91",
   "metadata": {
    "tags": []
   },
   "outputs": [],
   "source": [
    "import matplotlib.pyplot as plt\n",
    "from t4gpd.demos.GeoDataFrameDemos import GeoDataFrameDemos\n",
    "\n",
    "buildings = GeoDataFrameDemos.districtRoyaleInNantesBuildings()\n",
    "roads = GeoDataFrameDemos.districtRoyaleInNantesRoads()\n",
    "\n",
    "fig, ax = plt.subplots(figsize=(0.5 * 8.26, 0.5 * 8.26))\n",
    "buildings.plot(ax=ax, color=\"grey\")\n",
    "roads.plot(ax=ax, color=\"black\")\n",
    "ax.axis(\"off\")\n",
    "plt.show()\n",
    "plt.close(fig)"
   ]
  },
  {
   "cell_type": "code",
   "execution_count": null,
   "id": "2b0ef3b0-9be6-49e1-af2c-af5c0a06bcd6",
   "metadata": {},
   "outputs": [],
   "source": [
    "from pandas import Timestamp\n",
    "from t4gpd.energy.FelixMarboutin import FelixMarboutin\n",
    "\n",
    "labels=[\"Roof\", \"NE\", \"NW\", \"SW\", \"SE\"]\n",
    "di = FelixMarboutin.annual(labels, ofile=None)"
   ]
  },
  {
   "cell_type": "code",
   "execution_count": null,
   "id": "7bb64b30-2a8d-43df-b40b-866db7273d35",
   "metadata": {},
   "outputs": [],
   "source": [
    "import pyvista\n",
    "from t4gpd.pyvista.GeodeCiel import GeodeCiel\n",
    "from t4gpd.pyvista.ToUnstructuredGrid import ToUnstructuredGrid\n",
    "\n",
    "pyvista.start_xvfb()\n",
    "\n",
    "geode = GeodeCiel(norecursions=3, radius=None).run()\n",
    "scene = ToUnstructuredGrid([geode]).run()\n",
    "scene.plot(show_edges=False)"
   ]
  }
 ],
 "metadata": {
  "kernelspec": {
   "display_name": "Python 3 (ipykernel)",
   "language": "python",
   "name": "python3"
  },
  "language_info": {
   "codemirror_mode": {
    "name": "ipython",
    "version": 3
   },
   "file_extension": ".py",
   "mimetype": "text/x-python",
   "name": "python",
   "nbconvert_exporter": "python",
   "pygments_lexer": "ipython3",
   "version": "3.10.0"
  }
 },
 "nbformat": 4,
 "nbformat_minor": 5
}
